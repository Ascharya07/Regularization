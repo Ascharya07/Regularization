{
  "nbformat": 4,
  "nbformat_minor": 0,
  "metadata": {
    "colab": {
      "name": "Regularization.ipynb",
      "provenance": []
    },
    "kernelspec": {
      "name": "python3",
      "display_name": "Python 3"
    }
  },
  "cells": [
    {
      "cell_type": "code",
      "metadata": {
        "id": "lc4LAeRXi5za"
      },
      "source": [
        "import pandas as pd\r\n",
        "import numpy as np\r\n",
        "import matplotlib.pyplot as plt\r\n",
        "from sklearn import datasets\r\n",
        "from sklearn.model_selection import train_test_split\r\n",
        "from sklearn.linear_model import LinearRegression"
      ],
      "execution_count": null,
      "outputs": []
    },
    {
      "cell_type": "code",
      "metadata": {
        "id": "DQ_poNfxkItG"
      },
      "source": [
        "boston_dataset = datasets.load_boston()\r\n"
      ],
      "execution_count": null,
      "outputs": []
    },
    {
      "cell_type": "code",
      "metadata": {
        "colab": {
          "base_uri": "https://localhost:8080/"
        },
        "id": "x2rf-OZqkWi6",
        "outputId": "b4bb34e4-bcaa-4c59-a52e-2f04ed4f9a87"
      },
      "source": [
        "#load data set\r\n",
        "boston_pd = pd.DataFrame(boston_dataset.data)\r\n",
        "boston_pd.columns = boston_dataset.feature_names\r\n",
        "boston_pd_target = np.asarray(boston_dataset.target)\r\n",
        "boston_pd['House Price'] = pd.Series(boston_pd_target)\r\n",
        "\r\n",
        "#input\r\n",
        "X = boston_pd.iloc[:, :-1]\r\n",
        "\r\n",
        "#output\r\n",
        "Y = boston_pd.iloc[:, -1]\r\n",
        "\r\n",
        "print(boston_pd.head())"
      ],
      "execution_count": null,
      "outputs": [
        {
          "output_type": "stream",
          "text": [
            "      CRIM    ZN  INDUS  CHAS  ...  PTRATIO       B  LSTAT  House Price\n",
            "0  0.00632  18.0   2.31   0.0  ...     15.3  396.90   4.98         24.0\n",
            "1  0.02731   0.0   7.07   0.0  ...     17.8  396.90   9.14         21.6\n",
            "2  0.02729   0.0   7.07   0.0  ...     17.8  392.83   4.03         34.7\n",
            "3  0.03237   0.0   2.18   0.0  ...     18.7  394.63   2.94         33.4\n",
            "4  0.06905   0.0   2.18   0.0  ...     18.7  396.90   5.33         36.2\n",
            "\n",
            "[5 rows x 14 columns]\n"
          ],
          "name": "stdout"
        }
      ]
    },
    {
      "cell_type": "code",
      "metadata": {
        "colab": {
          "base_uri": "https://localhost:8080/"
        },
        "id": "dOg2VcrrlcAN",
        "outputId": "9718b7fc-36c3-4ea9-a810-4241478b8593"
      },
      "source": [
        "x_train, x_test, y_train, y_test = train_test_split(boston_pd.iloc[:, :-1], boston_pd.iloc[:,-1], test_size = 0.25)\r\n",
        "\r\n",
        "print(\"Train data shape of X= %s and Y = %s: \"%(x_train.shape, y_train.shape))\r\n",
        "\r\n",
        "print(\"Train data shape of X= %s and Y = %s: \"%(x_test.shape, y_test.shape))\r\n",
        "\r\n"
      ],
      "execution_count": null,
      "outputs": [
        {
          "output_type": "stream",
          "text": [
            "Train data shape of X= (379, 13) and Y = (379,): \n",
            "Train data shape of X= (127, 13) and Y = (127,): \n"
          ],
          "name": "stdout"
        }
      ]
    },
    {
      "cell_type": "code",
      "metadata": {
        "colab": {
          "base_uri": "https://localhost:8080/"
        },
        "id": "8m5Exa5rmuSe",
        "outputId": "d57e4555-10af-44dd-ffa1-8fca42f30754"
      },
      "source": [
        "\r\n",
        "#Apply multiple linear regression model\r\n",
        "\r\n",
        "lreg = LinearRegression()\r\n",
        "lreg.fit(x_train, y_train)\r\n",
        "\r\n",
        "#generate prediction on test set\r\n",
        "lreg_y_pred = lreg.predict(x_test)\r\n",
        "\r\n",
        "#calculating mean squared error\r\n",
        "mean_squared_error = np.mean((lreg_y_pred - y_test)**2)\r\n",
        "print('Mean squared Error on test set:', mean_squared_error)\r\n",
        "print()\r\n",
        "\r\n",
        "#putting together the coefficient and their corresponding variable names\r\n",
        "lreg_coefficient = pd.DataFrame()\r\n",
        "lreg_coefficient['Columns'] = x_train.columns\r\n",
        "lreg_coefficient['Coefficient Estimate']=pd.Series(lreg.coef_)\r\n",
        "print(lreg_coefficient)"
      ],
      "execution_count": null,
      "outputs": [
        {
          "output_type": "stream",
          "text": [
            "Mean squared Error on test set: 28.428426573614757\n",
            "\n",
            "    Columns  Coefficient Estimate\n",
            "0      CRIM             -0.100390\n",
            "1        ZN              0.048390\n",
            "2     INDUS              0.045938\n",
            "3      CHAS              2.345273\n",
            "4       NOX            -20.261567\n",
            "5        RM              4.034740\n",
            "6       AGE              0.003909\n",
            "7       DIS             -1.488342\n",
            "8       RAD              0.288654\n",
            "9       TAX             -0.012409\n",
            "10  PTRATIO             -0.984339\n",
            "11        B              0.007084\n",
            "12    LSTAT             -0.494299\n"
          ],
          "name": "stdout"
        }
      ]
    },
    {
      "cell_type": "code",
      "metadata": {
        "colab": {
          "base_uri": "https://localhost:8080/",
          "height": 320
        },
        "id": "mIlbjgmErcNM",
        "outputId": "75b0fe88-84c4-476c-a2fe-99114798a243"
      },
      "source": [
        "#plotting the coefficient\r\n",
        "fig, ax = plt.subplots(figsize = (20,10))\r\n",
        "\r\n",
        "color = ['tab:grey', 'tab:blue', 'tab:orange', 'tab:green', 'tab:red','tab:purple','tab:brown','tab:pink', 'tab:gray', 'tab:olive', 'tab:cyan', 'tab:orange', 'tab:green', 'tab:blue', 'tab:olive']\r\n",
        "\r\n",
        "ax.bar(lreg_coefficient['Columns'], lreg_coefficient['Coefficient Estimate'], color = color)\r\n",
        "\r\n",
        "ax.spines['bottom'].set_position('zero')\r\n",
        "\r\n",
        "\r\n",
        "plt.style.use('ggplot')\r\n",
        "plt.show()"
      ],
      "execution_count": null,
      "outputs": [
        {
          "output_type": "display_data",
          "data": {
            "image/png": "[encoded data removed]",
            "text/plain": [
              "<Figure size 1440x720 with 1 Axes>"
            ]
          },
          "metadata": {
            "tags": []
          }
        }
      ]
    },
    {
      "cell_type": "markdown",
      "metadata": {
        "id": "QJvmsuaJRfgG"
      },
      "source": [
        "In the linear model the NOX coefficient is effecting the linear equation highly. "
      ]
    },
    {
      "cell_type": "code",
      "metadata": {
        "colab": {
          "base_uri": "https://localhost:8080/"
        },
        "id": "crePFfv_UBMK",
        "outputId": "787747e1-fb58-47a9-832e-a51e85594b8c"
      },
      "source": [
        "#import ridge regression\r\n",
        "from sklearn.linear_model import Ridge\r\n",
        "\r\n",
        "#train the model\r\n",
        "ridgeR = Ridge(alpha=1)\r\n",
        "ridgeR.fit(x_train, y_train)\r\n",
        "y_pred = ridgeR.predict(x_test)\r\n",
        "\r\n",
        "#calculate the mean square error----------------------------------------------------------------------------------------------------------------------------------------------------------------------------------------------------------------------------------------------------------------------------------------------------------------------------------------------------------------------------------------------------------------------------------------------------------------------------------------------------------------------------\r\n",
        "mean_squared_error_ridge = np.mean((y_pred - y_test)**2)\r\n",
        "print('mean squared error on test set with reidge regression', mean_squared_error_ridge )\r\n",
        "\r\n",
        "#get ridge coefficient and print them\r\n",
        "\r\n",
        "ridge_coefficient = pd.DataFrame()\r\n",
        "ridge_coefficient['Columns']= x_train.columns\r\n",
        "ridge_coefficient['coefficient estimate'] = pd.Series(ridgeR.coef_)\r\n",
        "print(ridge_coefficient)"
      ],
      "execution_count": null,
      "outputs": [
        {
          "output_type": "stream",
          "text": [
            "mean squared error on test set with reidge regression 28.118425472964788\n",
            "    Columns  coefficient estimate\n",
            "0      CRIM             -0.095246\n",
            "1        ZN              0.050452\n",
            "2     INDUS              0.009755\n",
            "3      CHAS              2.115141\n",
            "4       NOX            -10.868318\n",
            "5        RM              4.117530\n",
            "6       AGE             -0.003983\n",
            "7       DIS             -1.340825\n",
            "8       RAD              0.268299\n",
            "9       TAX             -0.013137\n",
            "10  PTRATIO             -0.875316\n",
            "11        B              0.007840\n",
            "12    LSTAT             -0.506849\n"
          ],
          "name": "stdout"
        }
      ]
    },
    {
      "cell_type": "code",
      "metadata": {
        "colab": {
          "base_uri": "https://localhost:8080/",
          "height": 320
        },
        "id": "8t3RLRJ0Ved6",
        "outputId": "757c79e6-25a8-4d13-d072-529288a86408"
      },
      "source": [
        "#plotting the coefficient\r\n",
        "fig, ax = plt.subplots(figsize = (20,10))\r\n",
        "\r\n",
        "color = ['tab:grey', 'tab:blue', 'tab:orange', 'tab:green', 'tab:red','tab:purple','tab:brown','tab:pink', 'tab:gray', 'tab:olive', 'tab:cyan', 'tab:orange', 'tab:green', 'tab:blue', 'tab:olive']\r\n",
        "\r\n",
        "ax.bar(ridge_coefficient['Columns'], ridge_coefficient['coefficient estimate'], color = color)\r\n",
        "\r\n",
        "ax.spines['bottom'].set_position('zero')\r\n",
        "\r\n",
        "\r\n",
        "plt.style.use('ggplot')\r\n",
        "plt.show()"
      ],
      "execution_count": null,
      "outputs": [
        {
          "output_type": "display_data",
          "data": {
            "image/png": "[encoded data removed]",
            "text/plain": [
              "<Figure size 1440x720 with 1 Axes>"
            ]
          },
          "metadata": {
            "tags": []
          }
        }
      ]
    },
    {
      "cell_type": "markdown",
      "metadata": {
        "id": "gBzw3422ZQ6F"
      },
      "source": [
        "The NOX coefficient value has decreased, which helps in decreasing the effect of a particular value on the equation."
      ]
    },
    {
      "cell_type": "code",
      "metadata": {
        "colab": {
          "base_uri": "https://localhost:8080/"
        },
        "id": "a_pYe3aMWChJ",
        "outputId": "fa7596db-8260-4c9b-e30d-7f2bfb82d581"
      },
      "source": [
        "#import lasso regression\r\n",
        "from sklearn.linear_model import Lasso\r\n",
        "\r\n",
        "#train the model\r\n",
        "lassoR = Lasso(alpha=1)\r\n",
        "lassoR.fit(x_train, y_train)\r\n",
        "y_pred = lassoR.predict(x_test)\r\n",
        "\r\n",
        "#calculate the mean square error----------------------------------------------------------------------------------------------------------------------------------------------------------------------------------------------------------------------------------------------------------------------------------------------------------------------------------------------------------------------------------------------------------------------------------------------------------------------------------------------------------------------------\r\n",
        "mean_squared_error_ridge = np.mean((y_pred - y_test)**2)\r\n",
        "print('mean squared error on test set with reidge regression', mean_squared_error_ridge )\r\n",
        "\r\n",
        "#get ridge coefficient and print them\r\n",
        "\r\n",
        "lasso_coefficient = pd.DataFrame()\r\n",
        "lasso_coefficient['Columns']= x_train.columns\r\n",
        "lasso_coefficient['coefficient estimate'] = pd.Series(ridgeR.coef_)\r\n",
        "print(lasso_coefficient)"
      ],
      "execution_count": null,
      "outputs": [
        {
          "output_type": "stream",
          "text": [
            "mean squared error on test set with reidge regression 31.69637334411355\n",
            "    Columns  coefficient estimate\n",
            "0      CRIM             -0.095246\n",
            "1        ZN              0.050452\n",
            "2     INDUS              0.009755\n",
            "3      CHAS              2.115141\n",
            "4       NOX            -10.868318\n",
            "5        RM              4.117530\n",
            "6       AGE             -0.003983\n",
            "7       DIS             -1.340825\n",
            "8       RAD              0.268299\n",
            "9       TAX             -0.013137\n",
            "10  PTRATIO             -0.875316\n",
            "11        B              0.007840\n",
            "12    LSTAT             -0.506849\n"
          ],
          "name": "stdout"
        }
      ]
    },
    {
      "cell_type": "code",
      "metadata": {
        "colab": {
          "base_uri": "https://localhost:8080/",
          "height": 322
        },
        "id": "2An_lr9HXR_y",
        "outputId": "0c581395-c474-49d5-dc7b-576b9aeaecc4"
      },
      "source": [
        "#plotting the coefficient\r\n",
        "fig, ax = plt.subplots(figsize = (20,10))\r\n",
        "\r\n",
        "color = ['tab:grey', 'tab:blue', 'tab:orange', 'tab:green', 'tab:red','tab:purple','tab:brown','tab:pink', 'tab:gray', 'tab:olive', 'tab:cyan', 'tab:orange', 'tab:green', 'tab:blue', 'tab:olive']\r\n",
        "\r\n",
        "ax.bar(lasso_coefficient['Columns'], lasso_coefficient['coefficient estimate'], color = color)\r\n",
        "\r\n",
        "ax.spines['bottom'].set_position('zero')\r\n",
        "\r\n",
        "\r\n",
        "plt.style.use('ggplot')\r\n",
        "plt.show()"
      ],
      "execution_count": null,
      "outputs": [
        {
          "output_type": "display_data",
          "data": {
            "image/png": "[encoded data removed]",
            "text/plain": [
              "<Figure size 1440x720 with 1 Axes>"
            ]
          },
          "metadata": {
            "tags": []
          }
        }
      ]
    },
    {
      "cell_type": "code",
      "metadata": {
        "id": "-fin-oMGXnRb"
      },
      "source": [
        ""
      ],
      "execution_count": null,
      "outputs": []
    }
  ]
}